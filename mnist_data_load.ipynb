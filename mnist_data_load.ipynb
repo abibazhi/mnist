{
 "cells": [
  {
   "cell_type": "markdown",
   "id": "cb3c0ad5",
   "metadata": {},
   "source": [
    "# 1. 打开文件npz\n",
    "```python\n",
    "import numpy as np\n",
    "path = 'mnist.npz'\n",
    "f = np.load(path) # NpzFile 'mnist.npz' with keys: x_test, x_train, y_train, y_test\n",
    "print(f) # \n",
    "```"
   ]
  },
  {
   "cell_type": "code",
   "execution_count": 12,
   "id": "fb9c8f21-2478-40c2-b82f-8ccc677939aa",
   "metadata": {},
   "outputs": [
    {
     "name": "stdout",
     "output_type": "stream",
     "text": [
      "NpzFile 'mnist.npz' with keys: x_test, x_train, y_train, y_test\n",
      "['x_test', 'x_train', 'y_train', 'y_test']\n"
     ]
    }
   ],
   "source": [
    "import numpy as np\n",
    "path = 'mnist.npz'\n",
    "f = np.load(path)\n",
    "print(f)\n"
   ]
  },
  {
   "cell_type": "markdown",
   "id": "1239381c",
   "metadata": {},
   "source": [
    "## 1.1. npz文件是什么？\n",
    "0. npz是numpy的数组的压缩文件。\n",
    " npz文件格式是NumPy库提供的一种用于存储多个NumPy数组的二进制文件格式。它采用了ZIP压缩算法，能够有效地减少文件体积，便于存储和传输大量数值数据。\n",
    " npz文件通常包含一个或多个Numpy数组，这些数组可以有不同的形状和数据类型，非常适合于保存训练数据集、中间计算结果或者模型参数等。在创建npz文件时，可以一次性保存多个数组，并且在加载时能够恢复原有的数组结构和内容。\n",
    "\n"
   ]
  },
  {
   "cell_type": "markdown",
   "id": "02e4ef23",
   "metadata": {},
   "source": [
    "## 1.2. npz文件加载后怎么操作？\n",
    "0. 返回一个字典\n",
    " 当你使用 np.load('mnist.npz') 加载这个文件时，返回的对象就像是一个字典，\n",
    " 你可以通过键名来获取和使用这些数组，例如：\n",
    "```python\n",
    "data = np.load('mnist.npz')\n",
    "x_train = data['x_train']\n",
    "y_train = data['y_train']\n",
    "x_test = data['x_test']\n",
    "y_test = data['y_test']\n",
    "```"
   ]
  },
  {
   "cell_type": "markdown",
   "id": "e33036ef",
   "metadata": {},
   "source": [
    "## 1.3. npz文件中的数据如何查看\n",
    "```python\n",
    "xtest = f['x_test']\n",
    "print(type(xtest)) # 类型是：<class 'numpy.ndarray'>\n",
    "print(xtest.shape) # 形状是：(10000, 28, 28)\n",
    "# print(xtest[0]) # 值是28x28的二维数组。\n",
    "ytest = f['y_test']\n",
    "print(type(ytest)) # 类型是：<class 'numpy.ndarray'>\n",
    "print(ytest.shape) # 形状是：(10000,)，这个逗号不能省，表示一维数组\n",
    "print(ytest[0]) # 值是7\n",
    "```"
   ]
  },
  {
   "cell_type": "code",
   "execution_count": 13,
   "id": "ea24ad81-8bc6-4c21-953e-0135ba99ff75",
   "metadata": {},
   "outputs": [
    {
     "name": "stdout",
     "output_type": "stream",
     "text": [
      "<class 'numpy.ndarray'>\n",
      "(10000, 28, 28)\n",
      "<class 'numpy.ndarray'>\n",
      "(10000,)\n",
      "7\n"
     ]
    }
   ],
   "source": [
    "xtest = f['x_test']\n",
    "print(type(xtest))\n",
    "print(xtest.shape)\n",
    "# print(xtest[0])\n",
    "ytest = f['y_test']\n",
    "print(type(ytest))\n",
    "print(ytest.shape)\n",
    "print(ytest[0])"
   ]
  },
  {
   "cell_type": "markdown",
   "id": "0fed9959",
   "metadata": {},
   "source": [
    "# test_data_1的结构\n",
    " > test_data_1(类型list，长度10000)\n",
    "  > [0000](第一个元素类型是tuple，长度是2)\n",
    "   > (0)(第一个元素类型是ndarray，形状是(784,1))\n",
    "   > (1)(第二个元素类型是ndarray，形状是(10,1))"
   ]
  },
  {
   "cell_type": "markdown",
   "id": "88d53cf8",
   "metadata": {},
   "source": [
    "# 旧的数据集格式\n",
    "```python\n",
    "with gzip.open('mnist.pkl.gz', 'rb') as f:\n",
    "    train_data, validation_data, test_data = pickle.load(f)\n",
    "```\n",
    "```\n",
    "这段代码是用来读取一个gzip压缩过的Python pickle文件（mnist.pkl.gz），并从中加载数据。\n",
    "\n",
    "gzip.open('mnist.pkl.gz', 'rb')：使用gzip库以二进制读取模式打开并解压名为mnist.pkl.gz的文件。由于MNIST数据集可能为了节省存储空间而被压缩，因此这里使用gzip进行解压缩。\n",
    "\n",
    "as f：将打开并解压后的文件对象赋给变量f，以便后续读取数据。\n",
    "\n",
    "pickle.load(f)：使用Python的pickle模块从文件对象f中加载数据。pickle模块能够将Python对象转化为字节流进行存储，也可将字节流还原为原始的Python对象。\n",
    "\n",
    "train_data, validation_data, test_data = pickle.load(f)：从解压后的pickle文件中加载三个对象，并分别赋值给train_data、validation_data和test_data。这三个变量通常分别代表MNIST数据集的训练集、验证集和测试集。\n",
    "\n",
    "请注意，MNIST数据集通常包含图像数据和对应的标签，加载出来的train_data、validation_data和test_data各自可能是一个包含特征（图像）和标签的数据结构，例如元组或字典。具体结构取决于最初将数据保存到pickle文件时的设计。\n",
    "```"
   ]
  },
  {
   "cell_type": "code",
   "execution_count": null,
   "id": "b36a2dec",
   "metadata": {},
   "outputs": [],
   "source": []
  }
 ],
 "metadata": {
  "kernelspec": {
   "display_name": "Python 3 (ipykernel)",
   "language": "python",
   "name": "python3"
  },
  "language_info": {
   "codemirror_mode": {
    "name": "ipython",
    "version": 3
   },
   "file_extension": ".py",
   "mimetype": "text/x-python",
   "name": "python",
   "nbconvert_exporter": "python",
   "pygments_lexer": "ipython3",
   "version": "3.9.10"
  }
 },
 "nbformat": 4,
 "nbformat_minor": 5
}
