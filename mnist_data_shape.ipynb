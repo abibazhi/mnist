{
 "cells": [
  {
   "cell_type": "markdown",
   "id": "8ede52c1",
   "metadata": {},
   "source": [
    "# .1 书上的代码\n",
    "0. 书上的代码还用的是pkl.gz格式\n",
    "```python\n",
    "import pickle\n",
    "import gzip\n",
    "import numpy as np\n",
    "\n",
    "from dlgo.nn.load_mnist import encode_label, shape_data\n",
    "def encode_label_in_book(j):\n",
    "    e = np.zeros((10, 1))\n",
    "    e[j] = 1.0\n",
    "    return e\n",
    "\n",
    "def shape_data_in_book(data):\n",
    "    features = [np.reshape(x, (784, 1)) for x in data[0]]\n",
    "    labels = [encode_label(y) for y in data[1]]\n",
    "    return zip(features, labels)\n",
    "def load_data_in_book():\n",
    "    with gzip.open('mnist.pkl.gz', 'rb') as f:\n",
    "        train_data, validation_data, test_data = pickle.load(f)\n",
    "    return shape_data(train_data), shape_data(test_data)\n",
    "```"
   ]
  },
  {
   "cell_type": "markdown",
   "id": "346e9fec",
   "metadata": {},
   "source": [
    "# .2 github上实际的代码\n",
    "## .2.1 实际代码"
   ]
  },
  {
   "cell_type": "code",
   "execution_count": 11,
   "id": "20d2573a-6653-4c0e-a718-883ee56ad438",
   "metadata": {},
   "outputs": [],
   "source": [
    "import numpy as np\n",
    "\n",
    "\n",
    "def encode_label(j):  # <1>\n",
    "    e = np.zeros((10, 1)) # zeros这个方法的参数，就是一个元组，这个元组指定了数组的维度。\n",
    "    e[j] = 1.0 #这里，用e[j,0] = 1.0，也是一样的。如果有多列，应该这么写。\n",
    "    return e\n",
    "\n",
    "def shape_data(data):\n",
    "    features = [np.reshape(x, (784, 1)) for x in data[0]]  # <1>\n",
    "    labels = [encode_label(y) for y in data[1]]  # <2>\n",
    "    return list(zip(features, labels))  # <3>\n",
    "\n",
    "\n",
    "def load_data_impl():\n",
    "    # file retrieved by:\n",
    "    #   wget https://s3.amazonaws.com/img-datasets/mnist.npz -O code/dlgo/nn/mnist.npz\n",
    "    # code based on:\n",
    "    #   site-packages/keras/datasets/mnist.py\n",
    "    path = 'mnist.npz'\n",
    "    f = np.load(path)\n",
    "    x_train, y_train = f['x_train'], f['y_train']\n",
    "    x_test, y_test = f['x_test'], f['y_test']\n",
    "    f.close()\n",
    "    \n",
    "    return (x_train, y_train), (x_test, y_test)\n",
    "\n",
    "def load_data():\n",
    "    train_data, test_data = load_data_impl()\n",
    "    return shape_data(train_data), shape_data(test_data)"
   ]
  },
  {
   "cell_type": "markdown",
   "id": "befdbe29",
   "metadata": {},
   "source": [
    "## .2.1 执行方法时要赋值给变量\n",
    "0. 不然恐怕会有返回值到页面，执行时间会超长\n",
    "```python\n",
    "train_data1, test_data1 = load_data_impl() # 这种返回值超大的方法，要赋值给变量。\n",
    "st1 = shape_data(test_data1)\n",
    "```"
   ]
  },
  {
   "cell_type": "markdown",
   "id": "142617ac-48d8-45f8-a9f0-e4748aa53015",
   "metadata": {},
   "source": [
    "## .2.2 从存储格式到训练格式\n",
    "0. data有两列，就是原始的x和y两列，假设都是10000个数据。\n",
    "0. 经过这个方法后，就变成10000行，每行都是一个tuple，有两个数据\n",
    "0. 每个数据都是ndarray类型。nd就是ndim。\n",
    "0. 这个转换后的格式，就是可以直接用来训练的。\n",
    "```python\n",
    "def shape_data(data):\n",
    "    features = [np.reshape(x, (784, 1)) for x in data[0]]  # <1>\n",
    "    labels = [encode_label(y) for y in data[1]]  # <2>\n",
    "    return list(zip(features, labels))  # <3>\n",
    "```\n",
    "\n",
    "\"\"\"\n",
    "0. 这是通义给出的数据结构的描述。\n",
    "test_data_1[0] == (\n",
    "    np.array([[...]], shape=(784, 1)),  # 特征向量，一个784维的向量\n",
    "    np.array([[0., 0., 1., ..., 0., 0., 0.]], shape=(10, 1)),  # 标签向量，独热编码形式\n",
    ")\n",
    "\"\"\""
   ]
  },
  {
   "cell_type": "markdown",
   "id": "b58e63c9",
   "metadata": {},
   "source": [
    "# .3. 加载数据"
   ]
  },
  {
   "cell_type": "code",
   "execution_count": 17,
   "id": "1cafa502-dd6b-418a-bd3a-fee827e6451d",
   "metadata": {},
   "outputs": [],
   "source": [
    "train_data_1, test_data_1 = load_data()"
   ]
  },
  {
   "cell_type": "markdown",
   "id": "af99eb58",
   "metadata": {},
   "source": [
    "## .3.1 操作加载后的书局"
   ]
  },
  {
   "cell_type": "code",
   "execution_count": null,
   "id": "50a138df-1d22-45ce-b266-513f8cec8421",
   "metadata": {},
   "outputs": [
    {
     "name": "stdout",
     "output_type": "stream",
     "text": [
      "<class 'list'>\n",
      "60000\n",
      "<class 'tuple'>\n",
      "2\n",
      "<class 'numpy.ndarray'>\n",
      "(784, 1)\n",
      "<class 'numpy.ndarray'>\n",
      "(10, 1)\n",
      "[[0.]\n",
      " [0.]\n",
      " [0.]\n",
      " [0.]\n",
      " [0.]\n",
      " [1.]\n",
      " [0.]\n",
      " [0.]\n",
      " [0.]\n",
      " [0.]]\n",
      "5\n"
     ]
    }
   ],
   "source": [
    "import numpy as np\n",
    "\n",
    "print(type(train_data_1)) # train_data_1是一个list，list就是数组\n",
    "print(len(train_data_1)) # 它的长度是6万。\n",
    "##\n",
    "print(type(train_data_1[0])) # 6万个数据中，第一个数据类型是tuple元组\n",
    "print(len(train_data_1[0])) # 6万个数据中，第一个数据是元组类型，并且长度是2\n",
    "##\n",
    "print(type(train_data_1[0][0])) # 第一个元组中的第一个元素的类型是numpy.ndarray\n",
    "print(train_data_1[0][0].shape) # 第一个元组中的第一个元素的shape(784,1)\n",
    "##\n",
    "print(type(train_data_1[0][1])) # 第一个元组中的第一个元素的类型是numpy.ndarray\n",
    "print(train_data_1[0][1].shape) # 第一个元组中的第一个元素的shape(10,1)\n",
    "y0 = train_data_1[0][1] # 这个是输出，是y，命名为y0\n",
    "print(y0) # 打印一下y0。\n",
    "digit = np.argmax(y0)\n",
    "print(digit)\n",
    "digit = np.argmax(y0[:,0])\n",
    "print(digit)"
   ]
  },
  {
   "cell_type": "code",
   "execution_count": null,
   "id": "6d4c40b5-2fbc-4577-adc4-b3c5750afae8",
   "metadata": {},
   "outputs": [],
   "source": [
    "import numpy as np\n",
    "from dlgo.nn.load_mnist import load_data\n",
    "from dlgo.nn.layers import sigmoid_double\n",
    "def average_digit(data, digit): \n",
    "    filtered_data = [x[0] for x in data if np.argmax(x[1]) == digit]\n",
    "    filtered_array = np.asarray(filtered_data)\n",
    "    return np.average(filtered_array, axis=0)\n",
    "\n",
    "\n",
    "train, test = load_data()\n",
    "avg_eight = average_digit(train, 8) "
   ]
  },
  {
   "cell_type": "code",
   "execution_count": null,
   "id": "9051b33a-81ba-41cf-bef7-cc5183c638c6",
   "metadata": {},
   "outputs": [
    {
     "name": "stdout",
     "output_type": "stream",
     "text": [
      "(784, 1)\n",
      "(28, 28)\n"
     ]
    },
    {
     "data": {
      "text/plain": [
       "<matplotlib.image.AxesImage at 0x7f20ee01ed30>"
      ]
     },
     "execution_count": 17,
     "metadata": {},
     "output_type": "execute_result"
    },
    {
     "data": {
      "image/png": "[encoded data removed]",
      "text/plain": [
       "<Figure size 640x480 with 1 Axes>"
      ]
     },
     "metadata": {},
     "output_type": "display_data"
    }
   ],
   "source": [
    "def one_digit(data, digit):\n",
    "    for x in data:\n",
    "        if np.argmax(x[1]) == digit:\n",
    "            return x[0]\n",
    "one7 = one_digit(train,7)\n",
    "print(one7.shape)\n",
    "img7 = (np.reshape(one7, (28, 28)))\n",
    "print(img7.shape)\n",
    "\n",
    "from matplotlib import pyplot as plt\n",
    "plt.imshow(img7)\n"
   ]
  },
  {
   "cell_type": "code",
   "execution_count": null,
   "id": "2a5e0df6-42ad-4f3c-81ca-5c41691705eb",
   "metadata": {},
   "outputs": [
    {
     "name": "stdout",
     "output_type": "stream",
     "text": [
      "(28, 28)\n",
      "2\n"
     ]
    },
    {
     "data": {
      "image/png": "[encoded data removed]",
      "text/plain": [
       "<Figure size 640x480 with 1 Axes>"
      ]
     },
     "metadata": {},
     "output_type": "display_data"
    }
   ],
   "source": [
    "from matplotlib import pyplot as plt\n",
    "img = (np.reshape(avg_eight, (28, 28)))\n",
    "\n",
    "plt.imshow(img)\n",
    "#plt.imshow(img, cmap='gray')\n",
    "print(img.shape) # 结果是(28,28)\n",
    "print(img.ndim) # 结果是(2)\n",
    "\n",
    "plt.show()"
   ]
  },
  {
   "cell_type": "code",
   "execution_count": null,
   "id": "b37041bd-36b1-45c0-bb79-fab785b2b7ae",
   "metadata": {},
   "outputs": [],
   "source": []
  }
 ],
 "metadata": {
  "kernelspec": {
   "display_name": "Python 3 (ipykernel)",
   "language": "python",
   "name": "python3"
  },
  "language_info": {
   "codemirror_mode": {
    "name": "ipython",
    "version": 3
   },
   "file_extension": ".py",
   "mimetype": "text/x-python",
   "name": "python",
   "nbconvert_exporter": "python",
   "pygments_lexer": "ipython3",
   "version": "3.9.10"
  }
 },
 "nbformat": 4,
 "nbformat_minor": 5
}
