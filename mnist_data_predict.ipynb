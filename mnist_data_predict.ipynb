{
 "cells": [
  {
   "cell_type": "markdown",
   "id": "b37041bd-36b1-45c0-bb79-fab785b2b7ae",
   "metadata": {},
   "source": [
    "# .5 比较数据\n"
   ]
  },
  {
   "cell_type": "markdown",
   "id": "b71f580e",
   "metadata": {},
   "source": [
    "## .5.1 凑一个b的值\n",
    "0. 需要把W和x都除以250。\n",
    "0. 然后得到的值是20.1和56.7\n",
    "0. 而书上是20.1和54.2\n",
    "0. 这样两个差不多了。"
   ]
  },
  {
   "cell_type": "code",
   "execution_count": 1,
   "id": "be90a862",
   "metadata": {},
   "outputs": [
    {
     "name": "stdout",
     "output_type": "stream",
     "text": [
      "784 (784, 1)\n",
      "10\n",
      "784 (784, 1)\n",
      "10\n",
      "784 (784, 1)\n",
      "10\n",
      "784 (784, 1)\n",
      "10\n",
      "784 (784, 1)\n",
      "10\n",
      "['/home/jm/mnist', '/home/jm/.pyenv/versions/3.9.10/lib/python39.zip', '/home/jm/.pyenv/versions/3.9.10/lib/python3.9', '/home/jm/.pyenv/versions/3.9.10/lib/python3.9/lib-dynload', '', '/home/jm/.pyenv/versions/3.9.10/envs/mnist1/lib/python3.9/site-packages']\n",
      "['/home/jm/mnist', '/home/jm/.pyenv/versions/3.9.10/lib/python39.zip', '/home/jm/.pyenv/versions/3.9.10/lib/python3.9', '/home/jm/.pyenv/versions/3.9.10/lib/python3.9/lib-dynload', '', '/home/jm/.pyenv/versions/3.9.10/envs/mnist1/lib/python3.9/site-packages']\n",
      "1.0\n",
      "['/home/jm/mnist', '/home/jm/.pyenv/versions/3.9.10/lib/python39.zip', '/home/jm/.pyenv/versions/3.9.10/lib/python3.9', '/home/jm/.pyenv/versions/3.9.10/lib/python3.9/lib-dynload', '', '/home/jm/.pyenv/versions/3.9.10/envs/mnist1/lib/python3.9/site-packages']\n"
     ]
    },
    {
     "data": {
      "image/png": "[encoded data removed]",
      "text/plain": [
       "<Figure size 640x480 with 1 Axes>"
      ]
     },
     "metadata": {},
     "output_type": "display_data"
    },
    {
     "name": "stdout",
     "output_type": "stream",
     "text": [
      "[[3.43899525e-11]]\n",
      "[[0.99999199]]\n",
      "第三个样例的输入的形状是：(784, 1)\n",
      "第三个样例的输入的最大值是：255\n",
      "第三个样例的输出的形状是：(10, 1)\n",
      "第三个样例的输出的最大概率所对应的类别索引是：4\n",
      "第三个样例的输入中的最大灰度值是：255\n",
      "第18个样例的输入的形状是：(784, 1)\n",
      "第18个样例的输入的最大值是：255\n",
      "第18个样例的输出的形状是：(10, 1)\n",
      "第18个样例的输出的最大概率所对应的类别索引是：8\n",
      "avg_eight样例的输出的形状是：(784, 1)\n",
      "avg_eight样例的输入中的最大灰度值是：212.69304392411553\n",
      "avg_eight数组,转置后的W形状是：(1, 784)\n",
      "avg_eight数组,转置后的W的最大灰度值是：212.69304392411553\n",
      "W和avg_eight相乘：[[3577902.13990153]]\n",
      "W和a3相乘：[[20.90674333]]\n",
      "W和a18相乘：[[56.73526457]]\n"
     ]
    }
   ],
   "source": [
    "import numpy as np\n",
    "from dlgo.nn.load_mnist import load_data\n",
    "train, test = load_data()\n",
    "\n",
    "from dlgo.nn.average_digits import average_digit\n",
    "avg_eight = average_digit(train, 8) \n",
    "\n",
    "x_3 = train[2][0]\n",
    "y_3 = train[2][1]\n",
    "\n",
    "print(f\"第三个样例的输入的形状是：{x_3.shape}\")\n",
    "print(f\"第三个样例的输入的最大值是：{np.max(x_3)}\")\n",
    "print(f\"第三个样例的输出的形状是：{y_3.shape}\")\n",
    "print(f\"第三个样例的输出的最大概率所对应的类别索引是：{np.argmax(y_3)}\")\n",
    "\n",
    "# 不需要循环检查，直接输出最大值即可\n",
    "print(f\"第三个样例的输入中的最大灰度值是：{np.max(x_3)}\")\n",
    "\n",
    "# # 找一下有没有大于255的值？\n",
    "# for index,x in enumerate(x_3):\n",
    "#     if x>254:\n",
    "#         print(f\"索引是{index},值是{x}\")\n",
    "\n",
    "x_18 = train[17][0]\n",
    "y_18 = train[17][1] \n",
    "print(f\"第18个样例的输入的形状是：{x_18.shape}\")\n",
    "print(f\"第18个样例的输入的最大值是：{np.max(x_18)}\")\n",
    "print(f\"第18个样例的输出的形状是：{y_18.shape}\")\n",
    "print(f\"第18个样例的输出的最大概率所对应的类别索引是：{np.argmax(y_18)}\")\n",
    "# print(np.argmax(train[17][1]))\n",
    "avg_eight = average_digit(train, 8) \n",
    "print(f\"avg_eight样例的输出的形状是：{avg_eight.shape}\")\n",
    "print(f\"avg_eight样例的输入中的最大灰度值是：{np.max(avg_eight)}\")\n",
    "W = np.transpose(avg_eight)\n",
    "print(f\"avg_eight数组,转置后的W形状是：{W.shape}\")\n",
    "print(f\"avg_eight数组,转置后的W的最大灰度值是：{np.max(W)}\")\n",
    "\n",
    "res8 = np.dot(W, avg_eight) \n",
    "print(f\"W和avg_eight相乘：{res8}\")\n",
    "res3 = np.dot(W/250, x_3/250) \n",
    "print(f\"W和a3相乘：{res3}\")\n",
    "res18 = np.dot(W/250, x_18/250) \n",
    "print(f\"W和a18相乘：{res18}\")\n",
    "\n",
    "# print(np.argmax(x_3))\n",
    "# print(W.shape)\n",
    "# print(np.argmax(W))\n",
    "# res3 = np.dot(W, x_3) \n",
    "# res18 = np.dot(W, x_18)\n",
    "# print(res3)\n",
    "# print(res18)"
   ]
  },
  {
   "cell_type": "markdown",
   "id": "235c018f",
   "metadata": {},
   "source": [
    "## .5.2 确定b的值\n",
    "0. 用书上的45可以\n",
    "0. 用平均值38可以\n",
    "0. 用42似乎把两者分得更开了。"
   ]
  },
  {
   "cell_type": "code",
   "execution_count": 2,
   "id": "63e64956",
   "metadata": {},
   "outputs": [],
   "source": [
    "from dlgo.nn.layers import sigmoid_double\n",
    "#from dlgo.nn.layers import sigmoid_double\n",
    "# def sigmoid_double(x):\n",
    "#     return 1.0 / (1.0 + np.exp(-x))\n",
    "\n",
    "# # tag::predict_simple[]\n",
    "def predict(x, W, b):  # <1>\n",
    "    x1 = x/250\n",
    "    W1 = W/250\n",
    "    return sigmoid_double(np.dot(W1, x1) + b)\n",
    "\n",
    "# 原先-45，但是要变成-2500000才有相同效果。\n",
    "b = -45  # <2>\n",
    "b = -2500000\n",
    "b = -38\n",
    "b = -42\n",
    "\n"
   ]
  },
  {
   "cell_type": "markdown",
   "id": "f62d83da",
   "metadata": {},
   "source": [
    "## .5.3 试预测"
   ]
  },
  {
   "cell_type": "code",
   "execution_count": 3,
   "id": "e3c483f9",
   "metadata": {},
   "outputs": [
    {
     "name": "stdout",
     "output_type": "stream",
     "text": [
      "[[6.90740659e-10]]\n",
      "[[0.9999996]]\n"
     ]
    }
   ],
   "source": [
    "x_3_p = predict(x_3, W, b)   # <3>\n",
    "x_18_p = predict(x_18, W, b)  # <4> 0.96\n",
    "print(x_3_p)\n",
    "print(x_18_p)"
   ]
  },
  {
   "cell_type": "code",
   "execution_count": 4,
   "id": "7edbef8a",
   "metadata": {},
   "outputs": [],
   "source": [
    "def evaluate(data, digit, threshold, W, b):  # <1>\n",
    "    total_samples = 1.0 * len(data)\n",
    "    correct_predictions = 0\n",
    "    for x in data:\n",
    "        if predict(x[0], W, b) > threshold and np.argmax(x[1]) == digit:  # <2>\n",
    "            correct_predictions += 1\n",
    "        if predict(x[0], W, b) <= threshold and np.argmax(x[1]) != digit:  # <3>\n",
    "            correct_predictions += 1\n",
    "    return correct_predictions / total_samples\n",
    "\n"
   ]
  },
  {
   "cell_type": "code",
   "execution_count": 5,
   "id": "1fb6f55b",
   "metadata": {},
   "outputs": [
    {
     "name": "stdout",
     "output_type": "stream",
     "text": [
      "0.5612166666666667\n",
      "0.5471\n",
      "0.9075975359342916\n"
     ]
    }
   ],
   "source": [
    "train_eval = evaluate(data=train, digit=8, threshold=0.5, W=W, b=b)  # <1>\n",
    "print(train_eval)\n",
    "\n",
    "test_eval = evaluate(data=test, digit=8, threshold=0.5, W=W, b=b)   # <2>\n",
    "print(test_eval)\n",
    "\n",
    "eight_test = [x for x in test if np.argmax(x[1]) == 8]\n",
    "test_8_eval = evaluate(data=eight_test, digit=8, threshold=0.5, W=W, b=b)  # <3>\n",
    "print(test_8_eval)"
   ]
  }
 ],
 "metadata": {
  "kernelspec": {
   "display_name": "Python 3 (ipykernel)",
   "language": "python",
   "name": "python3"
  },
  "language_info": {
   "codemirror_mode": {
    "name": "ipython",
    "version": 3
   },
   "file_extension": ".py",
   "mimetype": "text/x-python",
   "name": "python",
   "nbconvert_exporter": "python",
   "pygments_lexer": "ipython3",
   "version": "3.9.10"
  }
 },
 "nbformat": 4,
 "nbformat_minor": 5
}
